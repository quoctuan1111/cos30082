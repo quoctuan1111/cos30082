{
 "cells": [
  {
   "cell_type": "code",
   "execution_count": 1,
   "id": "9ac70f93",
   "metadata": {
    "execution": {
     "iopub.execute_input": "2025-09-18T10:49:25.988140Z",
     "iopub.status.busy": "2025-09-18T10:49:25.987733Z",
     "iopub.status.idle": "2025-09-18T10:49:29.969782Z",
     "shell.execute_reply": "2025-09-18T10:49:29.968642Z"
    },
    "papermill": {
     "duration": 3.988705,
     "end_time": "2025-09-18T10:49:29.971788",
     "exception": false,
     "start_time": "2025-09-18T10:49:25.983083",
     "status": "completed"
    },
    "tags": []
   },
   "outputs": [],
   "source": [
    "import pandas as pd\n",
    "import numpy as np\n",
    "from sklearn.model_selection import train_test_split\n",
    "from sklearn.preprocessing import StandardScaler, OneHotEncoder\n",
    "from sklearn.compose import ColumnTransformer\n",
    "from sklearn.pipeline import Pipeline\n",
    "from sklearn.impute import SimpleImputer\n",
    "from sklearn.linear_model import LogisticRegression\n",
    "from sklearn.metrics import accuracy_score, recall_score, classification_report\n",
    "import warnings\n",
    "warnings.filterwarnings(\"ignore\", category=UserWarning, module=\"sklearn\")"
   ]
  },
  {
   "cell_type": "code",
   "execution_count": 2,
   "id": "66cc372e",
   "metadata": {
    "execution": {
     "iopub.execute_input": "2025-09-18T10:49:29.978591Z",
     "iopub.status.busy": "2025-09-18T10:49:29.978118Z",
     "iopub.status.idle": "2025-09-18T10:49:30.002591Z",
     "shell.execute_reply": "2025-09-18T10:49:30.001496Z"
    },
    "papermill": {
     "duration": 0.029415,
     "end_time": "2025-09-18T10:49:30.004275",
     "exception": false,
     "start_time": "2025-09-18T10:49:29.974860",
     "status": "completed"
    },
    "tags": []
   },
   "outputs": [],
   "source": [
    "# Load the dataset\n",
    " \n",
    "df = pd.read_csv(\"/kaggle/input/titanic-survival-dataset/Titanic-Dataset.csv\")"
   ]
  },
  {
   "cell_type": "code",
   "execution_count": 3,
   "id": "31bc3e68",
   "metadata": {
    "execution": {
     "iopub.execute_input": "2025-09-18T10:49:30.010822Z",
     "iopub.status.busy": "2025-09-18T10:49:30.010419Z",
     "iopub.status.idle": "2025-09-18T10:49:30.040252Z",
     "shell.execute_reply": "2025-09-18T10:49:30.039295Z"
    },
    "papermill": {
     "duration": 0.035014,
     "end_time": "2025-09-18T10:49:30.041964",
     "exception": false,
     "start_time": "2025-09-18T10:49:30.006950",
     "status": "completed"
    },
    "tags": []
   },
   "outputs": [
    {
     "data": {
      "text/html": [
       "<div>\n",
       "<style scoped>\n",
       "    .dataframe tbody tr th:only-of-type {\n",
       "        vertical-align: middle;\n",
       "    }\n",
       "\n",
       "    .dataframe tbody tr th {\n",
       "        vertical-align: top;\n",
       "    }\n",
       "\n",
       "    .dataframe thead th {\n",
       "        text-align: right;\n",
       "    }\n",
       "</style>\n",
       "<table border=\"1\" class=\"dataframe\">\n",
       "  <thead>\n",
       "    <tr style=\"text-align: right;\">\n",
       "      <th></th>\n",
       "      <th>PassengerId</th>\n",
       "      <th>Survived</th>\n",
       "      <th>Pclass</th>\n",
       "      <th>Name</th>\n",
       "      <th>Sex</th>\n",
       "      <th>Age</th>\n",
       "      <th>SibSp</th>\n",
       "      <th>Parch</th>\n",
       "      <th>Ticket</th>\n",
       "      <th>Fare</th>\n",
       "      <th>Cabin</th>\n",
       "      <th>Embarked</th>\n",
       "    </tr>\n",
       "  </thead>\n",
       "  <tbody>\n",
       "    <tr>\n",
       "      <th>0</th>\n",
       "      <td>1</td>\n",
       "      <td>0</td>\n",
       "      <td>3</td>\n",
       "      <td>Braund, Mr. Owen Harris</td>\n",
       "      <td>male</td>\n",
       "      <td>22.0</td>\n",
       "      <td>1</td>\n",
       "      <td>0</td>\n",
       "      <td>A/5 21171</td>\n",
       "      <td>7.2500</td>\n",
       "      <td>NaN</td>\n",
       "      <td>S</td>\n",
       "    </tr>\n",
       "    <tr>\n",
       "      <th>1</th>\n",
       "      <td>2</td>\n",
       "      <td>1</td>\n",
       "      <td>1</td>\n",
       "      <td>Cumings, Mrs. John Bradley (Florence Briggs Th...</td>\n",
       "      <td>female</td>\n",
       "      <td>38.0</td>\n",
       "      <td>1</td>\n",
       "      <td>0</td>\n",
       "      <td>PC 17599</td>\n",
       "      <td>71.2833</td>\n",
       "      <td>C85</td>\n",
       "      <td>C</td>\n",
       "    </tr>\n",
       "    <tr>\n",
       "      <th>2</th>\n",
       "      <td>3</td>\n",
       "      <td>1</td>\n",
       "      <td>3</td>\n",
       "      <td>Heikkinen, Miss. Laina</td>\n",
       "      <td>female</td>\n",
       "      <td>26.0</td>\n",
       "      <td>0</td>\n",
       "      <td>0</td>\n",
       "      <td>STON/O2. 3101282</td>\n",
       "      <td>7.9250</td>\n",
       "      <td>NaN</td>\n",
       "      <td>S</td>\n",
       "    </tr>\n",
       "    <tr>\n",
       "      <th>3</th>\n",
       "      <td>4</td>\n",
       "      <td>1</td>\n",
       "      <td>1</td>\n",
       "      <td>Futrelle, Mrs. Jacques Heath (Lily May Peel)</td>\n",
       "      <td>female</td>\n",
       "      <td>35.0</td>\n",
       "      <td>1</td>\n",
       "      <td>0</td>\n",
       "      <td>113803</td>\n",
       "      <td>53.1000</td>\n",
       "      <td>C123</td>\n",
       "      <td>S</td>\n",
       "    </tr>\n",
       "    <tr>\n",
       "      <th>4</th>\n",
       "      <td>5</td>\n",
       "      <td>0</td>\n",
       "      <td>3</td>\n",
       "      <td>Allen, Mr. William Henry</td>\n",
       "      <td>male</td>\n",
       "      <td>35.0</td>\n",
       "      <td>0</td>\n",
       "      <td>0</td>\n",
       "      <td>373450</td>\n",
       "      <td>8.0500</td>\n",
       "      <td>NaN</td>\n",
       "      <td>S</td>\n",
       "    </tr>\n",
       "  </tbody>\n",
       "</table>\n",
       "</div>"
      ],
      "text/plain": [
       "   PassengerId  Survived  Pclass  \\\n",
       "0            1         0       3   \n",
       "1            2         1       1   \n",
       "2            3         1       3   \n",
       "3            4         1       1   \n",
       "4            5         0       3   \n",
       "\n",
       "                                                Name     Sex   Age  SibSp  \\\n",
       "0                            Braund, Mr. Owen Harris    male  22.0      1   \n",
       "1  Cumings, Mrs. John Bradley (Florence Briggs Th...  female  38.0      1   \n",
       "2                             Heikkinen, Miss. Laina  female  26.0      0   \n",
       "3       Futrelle, Mrs. Jacques Heath (Lily May Peel)  female  35.0      1   \n",
       "4                           Allen, Mr. William Henry    male  35.0      0   \n",
       "\n",
       "   Parch            Ticket     Fare Cabin Embarked  \n",
       "0      0         A/5 21171   7.2500   NaN        S  \n",
       "1      0          PC 17599  71.2833   C85        C  \n",
       "2      0  STON/O2. 3101282   7.9250   NaN        S  \n",
       "3      0            113803  53.1000  C123        S  \n",
       "4      0            373450   8.0500   NaN        S  "
      ]
     },
     "execution_count": 3,
     "metadata": {},
     "output_type": "execute_result"
    }
   ],
   "source": [
    "df.head()"
   ]
  },
  {
   "cell_type": "code",
   "execution_count": 4,
   "id": "e0cc4125",
   "metadata": {
    "execution": {
     "iopub.execute_input": "2025-09-18T10:49:30.049017Z",
     "iopub.status.busy": "2025-09-18T10:49:30.048679Z",
     "iopub.status.idle": "2025-09-18T10:49:30.064560Z",
     "shell.execute_reply": "2025-09-18T10:49:30.063325Z"
    },
    "papermill": {
     "duration": 0.021407,
     "end_time": "2025-09-18T10:49:30.066316",
     "exception": false,
     "start_time": "2025-09-18T10:49:30.044909",
     "status": "completed"
    },
    "tags": []
   },
   "outputs": [],
   "source": [
    "# Select features and target\n",
    "features = ['Pclass', 'Sex', 'Age', 'SibSp', 'Parch', 'Fare', 'Embarked']\n",
    "target = 'Survived'\n",
    "X = df[features]\n",
    "y = df[target]\n",
    "#Preprocessing & train/test\n",
    "numeric_features = ['Age', 'SibSp', 'Parch', 'Fare']\n",
    "categorical_features = ['Sex', 'Embarked']\n",
    "\n",
    "numeric_transformer = Pipeline(steps=[\n",
    "    (\"imputer\", SimpleImputer(strategy=\"median\")),\n",
    "    (\"scaler\", StandardScaler())\n",
    "])\n",
    "\n",
    "categorical_transformer = Pipeline(steps=[\n",
    "    (\"imputer\", SimpleImputer(strategy=\"most_frequent\")),\n",
    "    (\"encoder\", OneHotEncoder(drop=\"first\", handle_unknown=\"ignore\"))\n",
    "])\n",
    "\n",
    "preprocessor = ColumnTransformer(\n",
    "    transformers=[\n",
    "        (\"num\", numeric_transformer, numeric_features),\n",
    "        (\"cat\", categorical_transformer, categorical_features)\n",
    "    ]\n",
    ")\n"
   ]
  },
  {
   "cell_type": "code",
   "execution_count": 5,
   "id": "76fef068",
   "metadata": {
    "execution": {
     "iopub.execute_input": "2025-09-18T10:49:30.073414Z",
     "iopub.status.busy": "2025-09-18T10:49:30.073083Z",
     "iopub.status.idle": "2025-09-18T10:49:30.088092Z",
     "shell.execute_reply": "2025-09-18T10:49:30.087282Z"
    },
    "papermill": {
     "duration": 0.020462,
     "end_time": "2025-09-18T10:49:30.089837",
     "exception": false,
     "start_time": "2025-09-18T10:49:30.069375",
     "status": "completed"
    },
    "tags": []
   },
   "outputs": [
    {
     "data": {
      "text/html": [
       "<div>\n",
       "<style scoped>\n",
       "    .dataframe tbody tr th:only-of-type {\n",
       "        vertical-align: middle;\n",
       "    }\n",
       "\n",
       "    .dataframe tbody tr th {\n",
       "        vertical-align: top;\n",
       "    }\n",
       "\n",
       "    .dataframe thead th {\n",
       "        text-align: right;\n",
       "    }\n",
       "</style>\n",
       "<table border=\"1\" class=\"dataframe\">\n",
       "  <thead>\n",
       "    <tr style=\"text-align: right;\">\n",
       "      <th></th>\n",
       "      <th>PassengerId</th>\n",
       "      <th>Survived</th>\n",
       "      <th>Pclass</th>\n",
       "      <th>Name</th>\n",
       "      <th>Sex</th>\n",
       "      <th>Age</th>\n",
       "      <th>SibSp</th>\n",
       "      <th>Parch</th>\n",
       "      <th>Ticket</th>\n",
       "      <th>Fare</th>\n",
       "      <th>Cabin</th>\n",
       "      <th>Embarked</th>\n",
       "    </tr>\n",
       "  </thead>\n",
       "  <tbody>\n",
       "    <tr>\n",
       "      <th>0</th>\n",
       "      <td>1</td>\n",
       "      <td>0</td>\n",
       "      <td>3</td>\n",
       "      <td>Braund, Mr. Owen Harris</td>\n",
       "      <td>male</td>\n",
       "      <td>22.0</td>\n",
       "      <td>1</td>\n",
       "      <td>0</td>\n",
       "      <td>A/5 21171</td>\n",
       "      <td>7.2500</td>\n",
       "      <td>NaN</td>\n",
       "      <td>S</td>\n",
       "    </tr>\n",
       "    <tr>\n",
       "      <th>1</th>\n",
       "      <td>2</td>\n",
       "      <td>1</td>\n",
       "      <td>1</td>\n",
       "      <td>Cumings, Mrs. John Bradley (Florence Briggs Th...</td>\n",
       "      <td>female</td>\n",
       "      <td>38.0</td>\n",
       "      <td>1</td>\n",
       "      <td>0</td>\n",
       "      <td>PC 17599</td>\n",
       "      <td>71.2833</td>\n",
       "      <td>C85</td>\n",
       "      <td>C</td>\n",
       "    </tr>\n",
       "    <tr>\n",
       "      <th>2</th>\n",
       "      <td>3</td>\n",
       "      <td>1</td>\n",
       "      <td>3</td>\n",
       "      <td>Heikkinen, Miss. Laina</td>\n",
       "      <td>female</td>\n",
       "      <td>26.0</td>\n",
       "      <td>0</td>\n",
       "      <td>0</td>\n",
       "      <td>STON/O2. 3101282</td>\n",
       "      <td>7.9250</td>\n",
       "      <td>NaN</td>\n",
       "      <td>S</td>\n",
       "    </tr>\n",
       "    <tr>\n",
       "      <th>3</th>\n",
       "      <td>4</td>\n",
       "      <td>1</td>\n",
       "      <td>1</td>\n",
       "      <td>Futrelle, Mrs. Jacques Heath (Lily May Peel)</td>\n",
       "      <td>female</td>\n",
       "      <td>35.0</td>\n",
       "      <td>1</td>\n",
       "      <td>0</td>\n",
       "      <td>113803</td>\n",
       "      <td>53.1000</td>\n",
       "      <td>C123</td>\n",
       "      <td>S</td>\n",
       "    </tr>\n",
       "    <tr>\n",
       "      <th>4</th>\n",
       "      <td>5</td>\n",
       "      <td>0</td>\n",
       "      <td>3</td>\n",
       "      <td>Allen, Mr. William Henry</td>\n",
       "      <td>male</td>\n",
       "      <td>35.0</td>\n",
       "      <td>0</td>\n",
       "      <td>0</td>\n",
       "      <td>373450</td>\n",
       "      <td>8.0500</td>\n",
       "      <td>NaN</td>\n",
       "      <td>S</td>\n",
       "    </tr>\n",
       "  </tbody>\n",
       "</table>\n",
       "</div>"
      ],
      "text/plain": [
       "   PassengerId  Survived  Pclass  \\\n",
       "0            1         0       3   \n",
       "1            2         1       1   \n",
       "2            3         1       3   \n",
       "3            4         1       1   \n",
       "4            5         0       3   \n",
       "\n",
       "                                                Name     Sex   Age  SibSp  \\\n",
       "0                            Braund, Mr. Owen Harris    male  22.0      1   \n",
       "1  Cumings, Mrs. John Bradley (Florence Briggs Th...  female  38.0      1   \n",
       "2                             Heikkinen, Miss. Laina  female  26.0      0   \n",
       "3       Futrelle, Mrs. Jacques Heath (Lily May Peel)  female  35.0      1   \n",
       "4                           Allen, Mr. William Henry    male  35.0      0   \n",
       "\n",
       "   Parch            Ticket     Fare Cabin Embarked  \n",
       "0      0         A/5 21171   7.2500   NaN        S  \n",
       "1      0          PC 17599  71.2833   C85        C  \n",
       "2      0  STON/O2. 3101282   7.9250   NaN        S  \n",
       "3      0            113803  53.1000  C123        S  \n",
       "4      0            373450   8.0500   NaN        S  "
      ]
     },
     "execution_count": 5,
     "metadata": {},
     "output_type": "execute_result"
    }
   ],
   "source": [
    "df.head()"
   ]
  },
  {
   "cell_type": "code",
   "execution_count": 6,
   "id": "d7ad6e57",
   "metadata": {
    "execution": {
     "iopub.execute_input": "2025-09-18T10:49:30.097219Z",
     "iopub.status.busy": "2025-09-18T10:49:30.096918Z",
     "iopub.status.idle": "2025-09-18T10:49:30.108970Z",
     "shell.execute_reply": "2025-09-18T10:49:30.107867Z"
    },
    "papermill": {
     "duration": 0.017677,
     "end_time": "2025-09-18T10:49:30.110706",
     "exception": false,
     "start_time": "2025-09-18T10:49:30.093029",
     "status": "completed"
    },
    "tags": []
   },
   "outputs": [],
   "source": [
    "# Logistic regression model\n",
    "model = Pipeline(steps=[\n",
    "    (\"preprocessor\", preprocessor),\n",
    "    (\"classifier\", LogisticRegression(max_iter=100, solver=\"liblinear\"))\n",
    "])\n",
    "\n",
    "X_train, X_test, y_train, y_test = train_test_split(\n",
    "    X, y, test_size=0.2, random_state=42, stratify=y\n",
    ")"
   ]
  },
  {
   "cell_type": "code",
   "execution_count": 7,
   "id": "2dd9a92c",
   "metadata": {
    "execution": {
     "iopub.execute_input": "2025-09-18T10:49:30.118163Z",
     "iopub.status.busy": "2025-09-18T10:49:30.117335Z",
     "iopub.status.idle": "2025-09-18T10:49:30.164846Z",
     "shell.execute_reply": "2025-09-18T10:49:30.163588Z"
    },
    "papermill": {
     "duration": 0.053126,
     "end_time": "2025-09-18T10:49:30.166734",
     "exception": false,
     "start_time": "2025-09-18T10:49:30.113608",
     "status": "completed"
    },
    "tags": []
   },
   "outputs": [
    {
     "name": "stdout",
     "output_type": "stream",
     "text": [
      "=== Task 2: Performance ===\n",
      "Accuracy: 0.7988826815642458\n",
      "Recall: 0.6666666666666666\n",
      "Classification Report:\n",
      "               precision    recall  f1-score   support\n",
      "\n",
      "           0       0.81      0.88      0.84       110\n",
      "           1       0.78      0.67      0.72        69\n",
      "\n",
      "    accuracy                           0.80       179\n",
      "   macro avg       0.79      0.77      0.78       179\n",
      "weighted avg       0.80      0.80      0.80       179\n",
      "\n",
      "\n",
      "=== Task 3: Theta coefficients ===\n",
      "intercept     1.332172\n",
      "Age          -0.282279\n",
      "SibSp        -0.335404\n",
      "Parch        -0.171092\n",
      "Fare          0.746873\n",
      "Sex_male     -2.447513\n",
      "Embarked_Q   -0.224984\n",
      "Embarked_S   -0.410692\n",
      "dtype: float64\n"
     ]
    }
   ],
   "source": [
    "#Train & Evaluate model\n",
    "model.fit(X_train, y_train)\n",
    "y_pred = model.predict(X_test)\n",
    "\n",
    "accuracy = accuracy_score(y_test, y_pred)\n",
    "recall = recall_score(y_test, y_pred)\n",
    "\n",
    "print(\"=== Task 2: Performance ===\")\n",
    "print(\"Accuracy:\", accuracy)\n",
    "print(\"Recall:\", recall)\n",
    "print(\"Classification Report:\\n\", classification_report(y_test, y_pred))\n",
    "\n",
    "\n",
    "#Extract coefficients\n",
    "\n",
    "log_reg = model.named_steps['classifier']\n",
    "ohe = model.named_steps['preprocessor'].named_transformers_['cat'].named_steps['encoder']\n",
    "\n",
    "feature_names = numeric_features + list(ohe.get_feature_names_out(categorical_features))\n",
    "theta = pd.Series(\n",
    "    np.append(log_reg.intercept_, log_reg.coef_[0]),\n",
    "    index=['intercept'] + feature_names\n",
    ")\n",
    "\n",
    "print(\"\\n=== Task 3: Theta coefficients ===\")\n",
    "print(theta)\n"
   ]
  },
  {
   "cell_type": "code",
   "execution_count": 8,
   "id": "b61f9d94",
   "metadata": {
    "execution": {
     "iopub.execute_input": "2025-09-18T10:49:30.174558Z",
     "iopub.status.busy": "2025-09-18T10:49:30.174157Z",
     "iopub.status.idle": "2025-09-18T10:49:30.191692Z",
     "shell.execute_reply": "2025-09-18T10:49:30.190560Z"
    },
    "papermill": {
     "duration": 0.023406,
     "end_time": "2025-09-18T10:49:30.193363",
     "exception": false,
     "start_time": "2025-09-18T10:49:30.169957",
     "status": "completed"
    },
    "tags": []
   },
   "outputs": [
    {
     "name": "stdout",
     "output_type": "stream",
     "text": [
      "   Pclass     Sex  Age  SibSp  Parch   Fare Embarked    Prediction\n",
      "0       1  female   29      0      0  72.00        C      survived\n",
      "1       3    male   22      1      0   7.25        S  not survived\n",
      "2       2    male   45      0      0  13.00        S  not survived\n"
     ]
    }
   ],
   "source": [
    "#Prediction on new records\n",
    "new_data = pd.DataFrame([\n",
    "    {'Pclass': 1, 'Sex': 'female', 'Age': 29, 'SibSp': 0, 'Parch': 0, 'Fare': 72.0, 'Embarked': 'C'},\n",
    "    {'Pclass': 3, 'Sex': 'male', 'Age': 22, 'SibSp': 1, 'Parch': 0, 'Fare': 7.25, 'Embarked': 'S'},\n",
    "    {'Pclass': 2, 'Sex': 'male', 'Age': 45, 'SibSp': 0, 'Parch': 0, 'Fare': 13.0, 'Embarked': 'S'}\n",
    "])\n",
    "\n",
    "preds = model.predict(new_data)\n",
    "new_data['Prediction'] = np.where(preds == 1, \"survived\", \"not survived\")\n",
    "print(new_data)"
   ]
  },
  {
   "cell_type": "code",
   "execution_count": 9,
   "id": "5b3fda35",
   "metadata": {
    "execution": {
     "iopub.execute_input": "2025-09-18T10:49:30.200596Z",
     "iopub.status.busy": "2025-09-18T10:49:30.200232Z",
     "iopub.status.idle": "2025-09-18T10:49:30.292809Z",
     "shell.execute_reply": "2025-09-18T10:49:30.291737Z"
    },
    "papermill": {
     "duration": 0.097932,
     "end_time": "2025-09-18T10:49:30.294417",
     "exception": false,
     "start_time": "2025-09-18T10:49:30.196485",
     "status": "completed"
    },
    "tags": []
   },
   "outputs": [
    {
     "name": "stdout",
     "output_type": "stream",
     "text": [
      "\n",
      "=== Task 5: Variations ===\n",
      "Config test_size=0.3, max_iter=100 -> Accuracy=0.7910, Recall=0.6893\n",
      "Config test_size=0.2, max_iter=50 -> Accuracy=0.7989, Recall=0.6667\n",
      "Config test_size=0.2, max_iter=500 -> Accuracy=0.7989, Recall=0.6667\n",
      "Config test_size=0.4, max_iter=200 -> Accuracy=0.8039, Recall=0.6861\n"
     ]
    }
   ],
   "source": [
    "#Variations (Task 5)\n",
    "configs = [\n",
    "    {\"test_size\": 0.30, \"max_iter\": 100},\n",
    "    {\"test_size\": 0.20, \"max_iter\": 50},\n",
    "    {\"test_size\": 0.20, \"max_iter\": 500},\n",
    "    {\"test_size\": 0.40, \"max_iter\": 200},\n",
    "]\n",
    "\n",
    "print(\"\\n=== Task 5: Variations ===\")\n",
    "for cfg in configs:\n",
    "    model_var = Pipeline(steps=[\n",
    "        (\"preprocessor\", preprocessor),\n",
    "        (\"classifier\", LogisticRegression(max_iter=cfg[\"max_iter\"], solver=\"liblinear\"))\n",
    "    ])\n",
    "    \n",
    "    X_train, X_test, y_train, y_test = train_test_split(\n",
    "        X, y, test_size=cfg[\"test_size\"], random_state=42, stratify=y\n",
    "    )\n",
    "    \n",
    "    model_var.fit(X_train, y_train)\n",
    "    y_pred = model_var.predict(X_test)\n",
    "    \n",
    "    acc = accuracy_score(y_test, y_pred)\n",
    "    rec = recall_score(y_test, y_pred)\n",
    "    \n",
    "    print(f\"Config test_size={cfg['test_size']}, max_iter={cfg['max_iter']} -> Accuracy={acc:.4f}, Recall={rec:.4f}\")"
   ]
  }
 ],
 "metadata": {
  "kaggle": {
   "accelerator": "none",
   "dataSources": [
    {
     "datasetId": 8296632,
     "sourceId": 13097903,
     "sourceType": "datasetVersion"
    }
   ],
   "dockerImageVersionId": 31089,
   "isGpuEnabled": false,
   "isInternetEnabled": false,
   "language": "python",
   "sourceType": "notebook"
  },
  "kernelspec": {
   "display_name": "Python 3",
   "language": "python",
   "name": "python3"
  },
  "language_info": {
   "codemirror_mode": {
    "name": "ipython",
    "version": 3
   },
   "file_extension": ".py",
   "mimetype": "text/x-python",
   "name": "python",
   "nbconvert_exporter": "python",
   "pygments_lexer": "ipython3",
   "version": "3.11.13"
  },
  "papermill": {
   "default_parameters": {},
   "duration": 10.984375,
   "end_time": "2025-09-18T10:49:31.019792",
   "environment_variables": {},
   "exception": null,
   "input_path": "__notebook__.ipynb",
   "output_path": "__notebook__.ipynb",
   "parameters": {},
   "start_time": "2025-09-18T10:49:20.035417",
   "version": "2.6.0"
  }
 },
 "nbformat": 4,
 "nbformat_minor": 5
}
